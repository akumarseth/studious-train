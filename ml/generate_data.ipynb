{
 "cells": [
  {
   "cell_type": "code",
   "execution_count": 2,
   "metadata": {},
   "outputs": [],
   "source": [
    "import pandas as pd\n",
    "import random"
   ]
  },
  {
   "cell_type": "code",
   "execution_count": 3,
   "metadata": {},
   "outputs": [
    {
     "name": "stdout",
     "output_type": "stream",
     "text": [
      "    title    author        genre  year_published  \\\n",
      "0  Book_1  Author E      Mystery            2010   \n",
      "1  Book_2  Author B  Non-Fiction            1998   \n",
      "2  Book_3  Author C      Romance            1980   \n",
      "3  Book_4  Author C    Biography            1985   \n",
      "4  Book_5  Author D      Romance            2006   \n",
      "\n",
      "                                            summary  average_rating  \n",
      "0                A biography of a prominent figure.             5.0  \n",
      "1   A mysterious plot filled with twists and turns.             3.7  \n",
      "2    A romantic story set in a picturesque village.             2.4  \n",
      "3    A romantic story set in a picturesque village.             3.3  \n",
      "4  A gripping tale of adventure and self-discovery.             3.4  \n"
     ]
    }
   ],
   "source": [
    "# Function to generate synthetic book data with average rating\n",
    "def generate_synthetic_book_data(num_samples=1000):\n",
    "    genres = ['Fiction', 'Non-Fiction', 'Sci-Fi', 'Fantasy', 'Biography', 'Mystery', 'Romance', 'Thriller']\n",
    "    authors = ['Author A', 'Author B', 'Author C', 'Author D', 'Author E']\n",
    "    years = list(range(1950, 2024))\n",
    "    summaries = [\n",
    "        \"A gripping tale of adventure and self-discovery.\",\n",
    "        \"A detailed account of historical events.\",\n",
    "        \"An exploration of futuristic technology and its consequences.\",\n",
    "        \"A heartwarming story of love and loss.\",\n",
    "        \"A mysterious plot filled with twists and turns.\",\n",
    "        \"A biography of a prominent figure.\",\n",
    "        \"A thrilling chase filled with suspense.\",\n",
    "        \"A romantic story set in a picturesque village.\"\n",
    "    ]\n",
    "    \n",
    "    data = {\n",
    "        'title': [f'Book_{i}' for i in range(1, num_samples + 1)],\n",
    "        'author': [random.choice(authors) for _ in range(num_samples)],\n",
    "        'genre': [random.choice(genres) for _ in range(num_samples)],\n",
    "        'year_published': [random.choice(years) for _ in range(num_samples)],\n",
    "        'summary': [random.choice(summaries) for _ in range(num_samples)],\n",
    "        'average_rating': [round(random.uniform(1, 5), 1) for _ in range(num_samples)]\n",
    "    }\n",
    "    \n",
    "    return pd.DataFrame(data)\n",
    "\n",
    "# Generate synthetic data\n",
    "df = generate_synthetic_book_data(1000)\n",
    "\n",
    "# Set pandas options for better display\n",
    "\n",
    "# Display the first few rows of the generated dataset\n",
    "print(df.head())\n",
    "\n",
    "df.to_csv('data/books_data.csv', index=False)\n"
   ]
  },
  {
   "cell_type": "code",
   "execution_count": null,
   "metadata": {},
   "outputs": [],
   "source": []
  }
 ],
 "metadata": {
  "kernelspec": {
   "display_name": ".venv_ml",
   "language": "python",
   "name": "python3"
  },
  "language_info": {
   "codemirror_mode": {
    "name": "ipython",
    "version": 3
   },
   "file_extension": ".py",
   "mimetype": "text/x-python",
   "name": "python",
   "nbconvert_exporter": "python",
   "pygments_lexer": "ipython3",
   "version": "3.12.4"
  }
 },
 "nbformat": 4,
 "nbformat_minor": 2
}
