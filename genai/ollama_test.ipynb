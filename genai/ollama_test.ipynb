{
 "cells": [
  {
   "cell_type": "code",
   "execution_count": 1,
   "metadata": {},
   "outputs": [
    {
     "name": "stdout",
     "output_type": "stream",
     "text": [
      "I'd be delighted to share one!\n",
      "\n",
      "Here's a fascinating fact: Elephants have a highly developed brain and are considered one of the smartest animals on Earth. In fact, they have been known to display empathy, cooperation, and self-awareness.\n",
      "\n",
      "But here's something that might surprise you: Elephants have a unique way of grieving their dead. When an elephant dies, its herd members will often visit the body, touch it with their trunks, and mournfully listen to each other's trumpeting sounds for several days. They even have been observed trying to wake up deceased elephants by poking them gently with their trunks! This behavior is a testament to their deep social bonds and emotional intelligence.\n",
      "\n",
      "Isn't that amazing?\n"
     ]
    }
   ],
   "source": [
    "import ollama\n",
    "\n",
    "response = ollama.chat(\n",
    "    model=\"llama3\",\n",
    "    messages=[\n",
    "        {\n",
    "            \"role\": \"user\",\n",
    "            \"content\": \"Tell me an interesting fact about elephants\",\n",
    "        },\n",
    "    ],\n",
    ")\n",
    "print(response[\"message\"][\"content\"])"
   ]
  },
  {
   "cell_type": "code",
   "execution_count": 2,
   "metadata": {},
   "outputs": [
    {
     "name": "stdout",
     "output_type": "stream",
     "text": [
      "Here's one!\n",
      "\n",
      "Elephants have a unique way of showing empathy and mourning the loss of their loved ones. When an elephant in the herd dies, other elephants will often visit the body and touch it with their trunks, as if to say goodbye or pay respects. They may also display behaviors such as:\n",
      "\n",
      "* Touching each other's trunks or bodies\n",
      "* Making low rumbles or trumpeting sounds\n",
      "* Visiting the site where the elephant died repeatedly\n",
      "\n",
      "This behavior is not just limited to adult elephants; even young calves will show empathy by visiting the body and trying to touch it with their trunks. It's a remarkable display of compassion and social bonding in these amazing animals!"
     ]
    }
   ],
   "source": [
    "import asyncio\n",
    "from ollama import AsyncClient\n",
    "\n",
    "async def chat():\n",
    "    \"\"\"\n",
    "    Stream a chat from Llama using the AsyncClient.\n",
    "    \"\"\"\n",
    "    message = {\n",
    "        \"role\": \"user\",\n",
    "        \"content\": \"Tell me an interesting fact about elephants\"\n",
    "    }\n",
    "    async for part in await AsyncClient().chat(\n",
    "        model=\"llama3\", messages=[message], stream=True\n",
    "    ):\n",
    "        print(part[\"message\"][\"content\"], end=\"\", flush=True)\n",
    "\n",
    "\n",
    "# asyncio.run(chat())\n",
    "await chat()"
   ]
  },
  {
   "cell_type": "code",
   "execution_count": 1,
   "metadata": {},
   "outputs": [],
   "source": [
    "from langchain_ollama import ChatOllama,OllamaLLM, OllamaEmbeddings\n",
    "\n",
    "llm_model = OllamaLLM(model=\"llama3.1:8b\")\n",
    "chat_model = ChatOllama(model=\"llama3.1:8b\")"
   ]
  },
  {
   "cell_type": "code",
   "execution_count": 21,
   "metadata": {},
   "outputs": [
    {
     "data": {
      "text/plain": [
       "'...Neil Armstrong. He stepped out of the lunar module Eagle and onto the surface of the Moon on July 20, 1969, famously declaring \"That\\'s one small step for man, one giant leap for mankind.\"'"
      ]
     },
     "execution_count": 21,
     "metadata": {},
     "output_type": "execute_result"
    }
   ],
   "source": [
    "llm_model.invoke(\"The first man on the moon was ...\")"
   ]
  },
  {
   "cell_type": "code",
   "execution_count": 22,
   "metadata": {},
   "outputs": [
    {
     "name": "stdout",
     "output_type": "stream",
     "text": [
      "...|Neil| Armstrong|,| an| American| astronaut| who| stepped| out| of| the| lunar| module| Eagle| and| onto| the| moon|'s| surface| on| July| |20|,| |196|9|.| His| famous| words| upon| setting| foot| on| the| moon| were|:\n",
      "\n",
      "|\"That|'s| one| small| step| for| man|,| one| giant| leap| for| mankind|.\"\n",
      "\n",
      "|Arm|strong| became| the| first| person| to| walk| on| the| moon| as| part| of| the| Apollo| |11| mission|,| followed| by| fellow| astronaut| Edwin| \"|Buzz|\"| Ald|rin|.| Michael| Collins| remained| in| orbit| around| the| moon| in| the| command| module| Columbia| while| Armstrong| and| Ald|rin| descended| to| the| lunar| surface|.||"
     ]
    }
   ],
   "source": [
    "for chunk in llm_model.stream(\"The first man on the moon was ...\"):\n",
    "    print(chunk, end=\"|\", flush=True)"
   ]
  },
  {
   "cell_type": "code",
   "execution_count": 23,
   "metadata": {},
   "outputs": [
    {
     "data": {
      "text/plain": [
       "AIMessage(content='The answer is Neil Armstrong, an American astronaut who became a legend in his own time.\\n\\nOn July 20, 1969, Armstrong and fellow astronaut Edwin \"Buzz\" Aldrin landed the Apollo 11 spacecraft on the surface of the Moon as part of NASA\\'s historic Apollo program. At 2:56 UTC (Coordinated Universal Time) on July 21, 1969, Armstrong radioed back to Mission Control on Earth with the now-famous words:\\n\\n\"That\\'s one small step for man, one giant leap for mankind.\"\\n\\nArmstrong stepped out of the lunar module Eagle and became the first human being to set foot on the Moon. He spent about two and a half hours exploring the surface, collecting samples, and conducting experiments.\\n\\nAfter completing his moonwalk, Armstrong returned to the Eagle with Aldrin, and the spacecraft successfully lifted off from the Moon\\'s surface later that day, splashing down safely in the Pacific Ocean on July 24, 1969.\\n\\nArmstrong\\'s historic achievement marked a major milestone in space exploration and paved the way for future human missions to other planets.', response_metadata={'model': 'llama3.1:8b', 'created_at': '2024-08-17T10:56:50.595009Z', 'message': {'role': 'assistant', 'content': ''}, 'done_reason': 'stop', 'done': True, 'total_duration': 9131921625, 'load_duration': 34235834, 'prompt_eval_count': 20, 'prompt_eval_duration': 800235000, 'eval_count': 222, 'eval_duration': 8296799000}, id='run-f36f94ef-a233-4051-aad0-28014d783649-0', usage_metadata={'input_tokens': 20, 'output_tokens': 222, 'total_tokens': 242})"
      ]
     },
     "execution_count": 23,
     "metadata": {},
     "output_type": "execute_result"
    }
   ],
   "source": [
    "chat_model.invoke(\"Who was the first man on the moon?\")"
   ]
  },
  {
   "cell_type": "code",
   "execution_count": 24,
   "metadata": {},
   "outputs": [
    {
     "name": "stdout",
     "output_type": "stream",
     "text": [
      "content='The' id='run-bb0d205c-4063-4451-9527-de57363a618f'|content=' answer' id='run-bb0d205c-4063-4451-9527-de57363a618f'|content=' is' id='run-bb0d205c-4063-4451-9527-de57363a618f'|content=' Neil' id='run-bb0d205c-4063-4451-9527-de57363a618f'|content=' Armstrong' id='run-bb0d205c-4063-4451-9527-de57363a618f'|content='.' id='run-bb0d205c-4063-4451-9527-de57363a618f'|content=' He' id='run-bb0d205c-4063-4451-9527-de57363a618f'|content=' became' id='run-bb0d205c-4063-4451-9527-de57363a618f'|content=' the' id='run-bb0d205c-4063-4451-9527-de57363a618f'|content=' first' id='run-bb0d205c-4063-4451-9527-de57363a618f'|content=' person' id='run-bb0d205c-4063-4451-9527-de57363a618f'|content=' to' id='run-bb0d205c-4063-4451-9527-de57363a618f'|content=' set' id='run-bb0d205c-4063-4451-9527-de57363a618f'|content=' foot' id='run-bb0d205c-4063-4451-9527-de57363a618f'|content=' on' id='run-bb0d205c-4063-4451-9527-de57363a618f'|content=' the' id='run-bb0d205c-4063-4451-9527-de57363a618f'|content=' Moon' id='run-bb0d205c-4063-4451-9527-de57363a618f'|content=\"'s\" id='run-bb0d205c-4063-4451-9527-de57363a618f'|content=' surface' id='run-bb0d205c-4063-4451-9527-de57363a618f'|content=' on' id='run-bb0d205c-4063-4451-9527-de57363a618f'|content=' July' id='run-bb0d205c-4063-4451-9527-de57363a618f'|content=' ' id='run-bb0d205c-4063-4451-9527-de57363a618f'|content='20' id='run-bb0d205c-4063-4451-9527-de57363a618f'|content=',' id='run-bb0d205c-4063-4451-9527-de57363a618f'|content=' ' id='run-bb0d205c-4063-4451-9527-de57363a618f'|content='196' id='run-bb0d205c-4063-4451-9527-de57363a618f'|content='9' id='run-bb0d205c-4063-4451-9527-de57363a618f'|content=',' id='run-bb0d205c-4063-4451-9527-de57363a618f'|content=' as' id='run-bb0d205c-4063-4451-9527-de57363a618f'|content=' part' id='run-bb0d205c-4063-4451-9527-de57363a618f'|content=' of' id='run-bb0d205c-4063-4451-9527-de57363a618f'|content=' the' id='run-bb0d205c-4063-4451-9527-de57363a618f'|content=' Apollo' id='run-bb0d205c-4063-4451-9527-de57363a618f'|content=' ' id='run-bb0d205c-4063-4451-9527-de57363a618f'|content='11' id='run-bb0d205c-4063-4451-9527-de57363a618f'|content=' mission' id='run-bb0d205c-4063-4451-9527-de57363a618f'|content='.' id='run-bb0d205c-4063-4451-9527-de57363a618f'|content=' As' id='run-bb0d205c-4063-4451-9527-de57363a618f'|content=' he' id='run-bb0d205c-4063-4451-9527-de57363a618f'|content=' stepped' id='run-bb0d205c-4063-4451-9527-de57363a618f'|content=' off' id='run-bb0d205c-4063-4451-9527-de57363a618f'|content=' the' id='run-bb0d205c-4063-4451-9527-de57363a618f'|content=' lunar' id='run-bb0d205c-4063-4451-9527-de57363a618f'|content=' module' id='run-bb0d205c-4063-4451-9527-de57363a618f'|content=' Eagle' id='run-bb0d205c-4063-4451-9527-de57363a618f'|content=' and' id='run-bb0d205c-4063-4451-9527-de57363a618f'|content=' onto' id='run-bb0d205c-4063-4451-9527-de57363a618f'|content=' the' id='run-bb0d205c-4063-4451-9527-de57363a618f'|content=' Moon' id='run-bb0d205c-4063-4451-9527-de57363a618f'|content=\"'s\" id='run-bb0d205c-4063-4451-9527-de57363a618f'|content=' surface' id='run-bb0d205c-4063-4451-9527-de57363a618f'|content=',' id='run-bb0d205c-4063-4451-9527-de57363a618f'|content=' Armstrong' id='run-bb0d205c-4063-4451-9527-de57363a618f'|content=' famously' id='run-bb0d205c-4063-4451-9527-de57363a618f'|content=' declared' id='run-bb0d205c-4063-4451-9527-de57363a618f'|content=':\\n\\n' id='run-bb0d205c-4063-4451-9527-de57363a618f'|content='\"That' id='run-bb0d205c-4063-4451-9527-de57363a618f'|content=\"'s\" id='run-bb0d205c-4063-4451-9527-de57363a618f'|content=' one' id='run-bb0d205c-4063-4451-9527-de57363a618f'|content=' small' id='run-bb0d205c-4063-4451-9527-de57363a618f'|content=' step' id='run-bb0d205c-4063-4451-9527-de57363a618f'|content=' for' id='run-bb0d205c-4063-4451-9527-de57363a618f'|content=' man' id='run-bb0d205c-4063-4451-9527-de57363a618f'|content=',' id='run-bb0d205c-4063-4451-9527-de57363a618f'|content=' one' id='run-bb0d205c-4063-4451-9527-de57363a618f'|content=' giant' id='run-bb0d205c-4063-4451-9527-de57363a618f'|content=' leap' id='run-bb0d205c-4063-4451-9527-de57363a618f'|content=' for' id='run-bb0d205c-4063-4451-9527-de57363a618f'|content=' mankind' id='run-bb0d205c-4063-4451-9527-de57363a618f'|content='.\"\\n\\n' id='run-bb0d205c-4063-4451-9527-de57363a618f'|content='Arm' id='run-bb0d205c-4063-4451-9527-de57363a618f'|content='strong' id='run-bb0d205c-4063-4451-9527-de57363a618f'|content=' was' id='run-bb0d205c-4063-4451-9527-de57363a618f'|content=' followed' id='run-bb0d205c-4063-4451-9527-de57363a618f'|content=' by' id='run-bb0d205c-4063-4451-9527-de57363a618f'|content=' fellow' id='run-bb0d205c-4063-4451-9527-de57363a618f'|content=' astronaut' id='run-bb0d205c-4063-4451-9527-de57363a618f'|content=' Edwin' id='run-bb0d205c-4063-4451-9527-de57363a618f'|content=' \"' id='run-bb0d205c-4063-4451-9527-de57363a618f'|content='Buzz' id='run-bb0d205c-4063-4451-9527-de57363a618f'|content='\"' id='run-bb0d205c-4063-4451-9527-de57363a618f'|content=' Ald' id='run-bb0d205c-4063-4451-9527-de57363a618f'|content='rin' id='run-bb0d205c-4063-4451-9527-de57363a618f'|content=',' id='run-bb0d205c-4063-4451-9527-de57363a618f'|content=' who' id='run-bb0d205c-4063-4451-9527-de57363a618f'|content=' also' id='run-bb0d205c-4063-4451-9527-de57363a618f'|content=' walked' id='run-bb0d205c-4063-4451-9527-de57363a618f'|content=' on' id='run-bb0d205c-4063-4451-9527-de57363a618f'|content=' the' id='run-bb0d205c-4063-4451-9527-de57363a618f'|content=' Moon' id='run-bb0d205c-4063-4451-9527-de57363a618f'|content=' during' id='run-bb0d205c-4063-4451-9527-de57363a618f'|content=' the' id='run-bb0d205c-4063-4451-9527-de57363a618f'|content=' mission' id='run-bb0d205c-4063-4451-9527-de57363a618f'|content='.\\n\\n' id='run-bb0d205c-4063-4451-9527-de57363a618f'|content='Neil' id='run-bb0d205c-4063-4451-9527-de57363a618f'|content=' Armstrong' id='run-bb0d205c-4063-4451-9527-de57363a618f'|content=' passed' id='run-bb0d205c-4063-4451-9527-de57363a618f'|content=' away' id='run-bb0d205c-4063-4451-9527-de57363a618f'|content=' in' id='run-bb0d205c-4063-4451-9527-de57363a618f'|content=' ' id='run-bb0d205c-4063-4451-9527-de57363a618f'|content='201' id='run-bb0d205c-4063-4451-9527-de57363a618f'|content='2' id='run-bb0d205c-4063-4451-9527-de57363a618f'|content=' at' id='run-bb0d205c-4063-4451-9527-de57363a618f'|content=' the' id='run-bb0d205c-4063-4451-9527-de57363a618f'|content=' age' id='run-bb0d205c-4063-4451-9527-de57363a618f'|content=' of' id='run-bb0d205c-4063-4451-9527-de57363a618f'|content=' ' id='run-bb0d205c-4063-4451-9527-de57363a618f'|content='82' id='run-bb0d205c-4063-4451-9527-de57363a618f'|content='.' id='run-bb0d205c-4063-4451-9527-de57363a618f'|content='' response_metadata={'model': 'llama3.1:8b', 'created_at': '2024-08-17T10:56:59.757799Z', 'message': {'role': 'assistant', 'content': ''}, 'done_reason': 'stop', 'done': True, 'total_duration': 4351044292, 'load_duration': 32098000, 'prompt_eval_count': 20, 'prompt_eval_duration': 166187000, 'eval_count': 110, 'eval_duration': 4152058000} id='run-bb0d205c-4063-4451-9527-de57363a618f' usage_metadata={'input_tokens': 20, 'output_tokens': 110, 'total_tokens': 130}|"
     ]
    }
   ],
   "source": [
    "for chunk in chat_model.stream(\"Who was the first man on the moon?\"):\n",
    "    print(chunk, end=\"|\", flush=True)"
   ]
  },
  {
   "cell_type": "code",
   "execution_count": 12,
   "metadata": {},
   "outputs": [],
   "source": [
    "text_to_summarize = \"\"\"\n",
    "Patient Name: John Doe\n",
    "Date of Birth: January 15, 1975\n",
    "Gender: Male\n",
    "Medical Record Number: 123456789\n",
    "Date of Assessment: August 18, 2023\n",
    "\n",
    "I. Chief Complaint:\n",
    "The patient presents with complaints of persistent fatigue, unexplained weight loss, and intermittent abdominal pain over the past few months. He reports a gradual decrease in appetite and occasional nausea. The patient is seeking medical evaluation to determine the underlying cause of his symptoms.\n",
    "\n",
    "II. Medical History:\n",
    "The patient has a history of hypertension managed with medication for the past five years. He underwent an appendectomy in his late twenties and had a hernia repair surgery a decade ago. The patient reports a family history of diabetes on his maternal side.\n",
    "\n",
    "III. Review of Systems:\n",
    "\n",
    "General: The patient reports fatigue, unexplained weight loss of approximately 10 pounds over three months, and a decreased appetite.\n",
    "\n",
    "Gastrointestinal: The patient experiences intermittent abdominal pain, predominantly in the right upper quadrant, without a clear trigger. He reports occasional nausea, and denies vomiting, diarrhea, or changes in bowel habits.\n",
    "\n",
    "Cardiovascular: The patient's blood pressure has been well controlled with medication. He denies chest pain, palpitations, or shortness of breath.\n",
    "\n",
    "Respiratory: The patient denies cough, wheezing, or shortness of breath.\n",
    "\n",
    "Musculoskeletal: No significant joint pain or limitations in mobility reported.\n",
    "\n",
    "Neurological: The patient denies headaches, dizziness, or changes in vision.\n",
    "\n",
    "Psychological: The patient mentions occasional stress due to work-related factors but denies symptoms of depression or anxiety.\n",
    "\n",
    "IV. Physical Examination:\n",
    "\n",
    "Vital Signs: Blood pressure is 130/80 mmHg, heart rate is 78 beats per minute, respiratory rate is 16 breaths per minute, and temperature is 98.6°F (37°C).\n",
    "\n",
    "General: The patient appears fatigued but alert and oriented to person, place, and time. He appears to have lost weight since his last visit.\n",
    "\n",
    "Abdominal Examination: There is tenderness on palpation in the right upper quadrant of the abdomen. No palpable masses or organomegaly noted. Bowel sounds are normal.\n",
    "\n",
    "Cardiovascular Examination: Regular rate and rhythm with no murmurs or abnormal sounds.\n",
    "\n",
    "Respiratory Examination: Clear breath sounds bilaterally, no wheezing or crackles noted.\n",
    "\n",
    "Neurological Examination: No focal neurological deficits observed.\n",
    "\n",
    "V. Diagnostic Investigations:\n",
    "\n",
    "Complete Blood Count (CBC): Within normal limits.\n",
    "Comprehensive Metabolic Panel (CMP): Slight decrease in albumin levels.\n",
    "Liver Function Tests (LFTs): Mild elevation in liver enzymes (AST and ALT).\n",
    "Abdominal Ultrasound: No evidence of gallstones or other abnormalities. Liver appears slightly enlarged.\n",
    "CT Scan of the Abdomen: Reveals a mass in the liver, approximately 5 cm in diameter. The mass appears to be enhancing on contrast.\n",
    "VI. Assessment and Plan:\n",
    "\n",
    "Based on the patient's symptoms, physical examination, and diagnostic investigations, the following assessment and plan have been formulated:\n",
    "\n",
    "Assessment:\n",
    "\n",
    "Unexplained weight loss and fatigue.\n",
    "Right upper quadrant abdominal pain.\n",
    "Elevated liver enzymes and an enlarging liver mass.\n",
    "Plan:\n",
    "\n",
    "Further Evaluation: Given the presence of an enlarging liver mass and elevated liver enzymes, the patient will be referred to a gastroenterologist for further evaluation, including possible liver biopsy.\n",
    "Oncology Consultation: Given the possibility of malignancy, an oncology consultation will be sought to determine the nature of the liver mass and develop an appropriate treatment plan.\n",
    "Symptom Management: The patient's abdominal pain will be managed with pain relievers as needed. Anti-nausea medication will be prescribed to alleviate nausea symptoms.\n",
    "Nutritional Support: The patient's decreased appetite and weight loss will be addressed with dietary counseling and nutritional support to ensure adequate calorie intake.\n",
    "Psychological Support: Given the patient's stress and anxiety related to his symptoms, psychological support and counseling will be offered to address emotional well-being.\n",
    "VII. Follow-Up:\n",
    "\n",
    "The patient is scheduled for a follow-up appointment in two weeks to discuss the results of further investigations, consultations, and to address any ongoing symptoms. The patient is advised to monitor his symptoms and report any significant changes or new symptoms before the next visit.\n",
    "\n",
    "VIII. Prognosis and Discussion:\n",
    "\n",
    "The presence of an enlarging liver mass raises concerns about potential malignancy. Further diagnostic testing and consultations with specialists are essential to determine the nature of the mass and develop an appropriate treatment plan. The patient's overall prognosis will be influenced by the nature of the liver mass and the success of treatment interventions. Close collaboration between the patient, medical team, and specialists will guide the management of his condition and optimize his chances of recovery.\n",
    "\n",
    "IX. Patient Education:\n",
    "\n",
    "The patient and his family will receive comprehensive education about the diagnostic process, potential treatment options, and the importance of adhering to medical recommendations. Emphasis will be placed on the need for regular follow-up appointments and open communication with the medical team to ensure the best possible outcomes.\n",
    "\n",
    "X. Conclusion:\n",
    "\n",
    "This patient report outlines the comprehensive health assessment of John Doe, a male patient presenting with unexplained weight loss, fatigue, and abdominal pain. The assessment encompasses a thorough medical history, review of systems, physical examination findings, diagnostic investigations, assessment, and a detailed plan for further evaluation and management. The collaboration between healthcare professionals and specialists will be crucial in guiding the patient's journey toward an accurate diagnosis, effective treatment, and optimal health outcomes.\n",
    "\"\"\"\n"
   ]
  },
  {
   "cell_type": "code",
   "execution_count": 25,
   "metadata": {},
   "outputs": [
    {
     "data": {
      "text/plain": [
       "\"Here is a summary of the text:\\n\\n**Patient Information:**\\nJohn Doe, male, born January 15, 1975, with medical record number 123456789.\\n\\n**Chief Complaints:**\\nPersistent fatigue, unexplained weight loss (10 pounds over 3 months), and intermittent abdominal pain in the right upper quadrant.\\n\\n**Medical History:**\\nHypertension managed with medication for 5 years, appendectomy at age 25, and hernia repair surgery a decade ago. Family history of diabetes on his maternal side.\\n\\n**Diagnostic Findings:**\\n\\n* Liver Function Tests (LFTs) show mild elevation in liver enzymes.\\n* Abdominal Ultrasound reveals no gallstones but an enlarged liver with a mass approximately 5 cm in diameter.\\n* CT Scan confirms the presence of a liver mass.\\n\\n**Assessment and Plan:**\\nThe patient is referred to a gastroenterologist for further evaluation, including possible liver biopsy. An oncology consultation will also be sought due to concerns about potential malignancy. The patient's symptoms will be managed with pain relievers, anti-nausea medication, nutritional support, and psychological counseling.\\n\\n**Follow-Up and Prognosis:**\\nThe patient is scheduled for a follow-up appointment in two weeks to discuss the results of further investigations and consultations. The presence of an enlarging liver mass raises concerns about potential malignancy, but close collaboration between healthcare professionals will guide the management of his condition and optimize his chances of recovery.\""
      ]
     },
     "execution_count": 25,
     "metadata": {},
     "output_type": "execute_result"
    }
   ],
   "source": [
    "from langchain.chains.prompt_selector import ConditionalPromptSelector\n",
    "from langchain_core.prompts import PromptTemplate\n",
    "from langchain_core.output_parsers import StrOutputParser\n",
    "\n",
    "generic_template = \"\"\"\n",
    "              Write a summary of the following text delimited by triple backticks.\n",
    "              Return your response which covers the key points of the text.\n",
    "              ```{text_to_summarize}```\n",
    "              SUMMARY:\n",
    "           \"\"\"\n",
    "\n",
    "prompt=PromptTemplate(\n",
    "    input_variables=['text_to_summarize'],\n",
    "    template=generic_template\n",
    ")\n",
    "\n",
    "prompt.format(text_to_summarize=text_to_summarize)\n",
    "\n",
    "llm_chain = prompt | llm_model"
   ]
  },
  {
   "cell_type": "code",
   "execution_count": 26,
   "metadata": {},
   "outputs": [
    {
     "name": "stdout",
     "output_type": "stream",
     "text": [
      "Here is a summary of the text:\n",
      "\n",
      "**Patient Information**\n",
      "\n",
      "* Name: John Doe\n",
      "* Date of Birth: January 15, 1975\n",
      "* Medical Record Number: 123456789\n",
      "\n",
      "**Chief Complaints**\n",
      "\n",
      "* Persistent fatigue\n",
      "* Unexplained weight loss (10 pounds in 3 months)\n",
      "* Intermittent abdominal pain in the right upper quadrant\n",
      "\n",
      "**Medical History**\n",
      "\n",
      "* Hypertension managed with medication for 5 years\n",
      "* Appendectomy and hernia repair surgery in the past\n",
      "* Family history of diabetes on his maternal side\n",
      "\n",
      "**Diagnostic Findings**\n",
      "\n",
      "* Elevated liver enzymes (AST and ALT)\n",
      "* Liver mass approximately 5 cm in diameter, visible on CT scan\n",
      "* Abdominal ultrasound shows a slightly enlarged liver\n",
      "\n",
      "**Assessment and Plan**\n",
      "\n",
      "* Further evaluation by gastroenterologist for possible liver biopsy\n",
      "* Oncology consultation to determine the nature of the liver mass\n",
      "* Symptom management, nutritional support, and psychological counseling\n",
      "\n",
      "**Follow-Up and Prognosis**\n",
      "\n",
      "* Scheduled follow-up appointment in 2 weeks to discuss further investigations and consultations\n",
      "* Close collaboration between patient, medical team, and specialists will guide treatment and optimize outcomes.\n"
     ]
    }
   ],
   "source": [
    "summary = llm_chain.invoke({'text_to_summarize':text_to_summarize})\n",
    "print(summary)"
   ]
  },
  {
   "cell_type": "code",
   "execution_count": 27,
   "metadata": {},
   "outputs": [
    {
     "name": "stdout",
     "output_type": "stream",
     "text": [
      "`|Here| is| a| summary| of| the| key| points| from| the| medical| record|:\n",
      "\n",
      "|**|Patient| Information|**\n",
      "|-| Patient| name|:| John| Doe|\n",
      "|-| Date| of| birth|:| January| |15|,| |197|5|\n",
      "|-| Gender|:| Male|\n",
      "|-| Medical| Record| Number|:| |123|456|789|\n",
      "\n",
      "|**|Chief| Complaint|s|**\n",
      "|-| Persistent| fatigue|\n",
      "|-| Un|explained| weight| loss| (|10| pounds| over| |3| months|)\n",
      "|-| Int|erm|itt|ent| abdominal| pain| in| the| right| upper| quadrant|\n",
      "|-| Decre|ased| appetite| and| occasional| nausea|\n",
      "\n",
      "|**|Medical| History|**\n",
      "|-| Hyp|ert|ension| managed| with| medication| for| |5| years|\n",
      "|-| Append|ectomy| and| hern|ia| repair| surgery| a| decade| ago|\n",
      "|-| Family| history| of| diabetes| on| maternal| side|\n",
      "\n",
      "|**|Diagnostic| Investigations|**\n",
      "|-| Complete| Blood| Count| (|CBC|)| within| normal| limits|\n",
      "|-| Comprehensive| Met|abolic| Panel| (|CMP|)| showed| slight| decrease| in| album|in| levels|\n",
      "|-| Liver| Function| Tests| (|L|FT|s|)| revealed| mild| elevation| in| liver| enzymes| (|AST| and| ALT|)\n",
      "|-| Ab|dom|inal| Ul|trasound|:| no| evidence| of| gall|stones| or| other| abnormalities|,| but| liver| appeared| slightly| enlarged|\n",
      "|-| CT| Scan| of| the| abdomen| revealed| a| |5| cm| mass| in| the| liver|\n",
      "\n",
      "|**|Ass|essment| and| Plan|**\n",
      "|-| Further| evaluation| by| a| gastro|enter|ologist| for| possible| liver| biopsy|\n",
      "|-| Onc|ology| consultation| to| determine| nature| of| liver| mass| and| develop| treatment| plan|\n",
      "|-| Sym|ptom| management| with| pain| relie|vers|,| anti|-na|use|a| medication|,| and| nutritional| support|\n",
      "|-| Psychological| support| due| to| stress| and| anxiety| related| to| symptoms|\n",
      "\n",
      "|**|Follow|-Up| and| Pro|gn|osis|**\n",
      "|-| Follow|-up| appointment| in| |2| weeks| to| discuss| further| investigations| and| consultations|\n",
      "|-| Close| collaboration| between| patient|,| medical| team|,| and| specialists| will| guide| the| management| of| his| condition| and| optimize| chances| of| recovery|`||"
     ]
    }
   ],
   "source": [
    "for chunk in llm_chain.stream({'text_to_summarize':text_to_summarize}):\n",
    "    print(chunk, end=\"|\", flush=True)"
   ]
  },
  {
   "cell_type": "code",
   "execution_count": 31,
   "metadata": {},
   "outputs": [
    {
     "name": "stdout",
     "output_type": "stream",
     "text": [
      "Here is a summary of the text, covering the key points:\n",
      "\n",
      "**Patient Profile**\n",
      "\n",
      "* Name: John Doe\n",
      "* Date of Birth: January 15, 1975\n",
      "* Gender: Male\n",
      "* Medical Record Number: 123456789\n",
      "\n",
      "**Chief Complaints**\n",
      "\n",
      "* Persistent fatigue\n",
      "* Unexplained weight loss (10 pounds in 3 months)\n",
      "* Intermittent abdominal pain in the right upper quadrant\n",
      "* Decreased appetite and occasional nausea\n",
      "\n",
      "**Medical History**\n",
      "\n",
      "* Hypertension managed with medication for 5 years\n",
      "* Appendectomy and hernia repair surgery\n",
      "* Family history of diabetes on his maternal side\n",
      "\n",
      "**Diagnostic Findings**\n",
      "\n",
      "* Liver mass (5 cm) detected by CT scan\n",
      "* Elevated liver enzymes (AST and ALT)\n",
      "* Slight decrease in albumin levels\n",
      "* No gallstones or other abnormalities on abdominal ultrasound\n",
      "\n",
      "**Assessment and Plan**\n",
      "\n",
      "* Referral to gastroenterologist for further evaluation, including possible liver biopsy\n",
      "* Oncology consultation due to possibility of malignancy\n",
      "* Symptom management for pain, nausea, and weight loss\n",
      "* Psychological support and counseling offered\n",
      "\n",
      "**Follow-Up and Prognosis**\n",
      "\n",
      "* Follow-up appointment in 2 weeks to discuss results and ongoing symptoms\n",
      "* Collaboration with specialists essential to determine nature of liver mass and develop treatment plan\n",
      "* Patient education on diagnostic process, treatment options, and importance of follow-up appointments.\n"
     ]
    }
   ],
   "source": [
    "from langchain.chains import LLMChain\n",
    "\n",
    "llm_chain=LLMChain(llm=llm_model,prompt=prompt)\n",
    "summary=llm_chain.run({'text_to_summarize':text_to_summarize})\n",
    "print(summary)"
   ]
  },
  {
   "cell_type": "code",
   "execution_count": null,
   "metadata": {},
   "outputs": [],
   "source": []
  }
 ],
 "metadata": {
  "kernelspec": {
   "display_name": ".venv_genai",
   "language": "python",
   "name": "python3"
  },
  "language_info": {
   "codemirror_mode": {
    "name": "ipython",
    "version": 3
   },
   "file_extension": ".py",
   "mimetype": "text/x-python",
   "name": "python",
   "nbconvert_exporter": "python",
   "pygments_lexer": "ipython3",
   "version": "3.12.4"
  }
 },
 "nbformat": 4,
 "nbformat_minor": 2
}
